{
 "cells": [
  {
   "cell_type": "markdown",
   "metadata": {},
   "source": [
    "两层循环的暴力破解方式不可取，时间复杂度太高"
   ]
  },
  {
   "cell_type": "markdown",
   "metadata": {},
   "source": [
    "# 方法一\n",
    "遍历列表的同时查字典"
   ]
  },
  {
   "cell_type": "code",
   "execution_count": 7,
   "metadata": {},
   "outputs": [],
   "source": [
    "def two_sum1(nums,target):\n",
    "    dct={}\n",
    "    for i,n in enumerate(nums):\n",
    "        if target - n in dct:#in这个操作在字典中查询的是键而不是值\n",
    "            return [dct[target - n],i]\n",
    "        dct[n] = i#关键，建立的过程与原列表的索引和值是相反的"
   ]
  },
  {
   "cell_type": "markdown",
   "metadata": {},
   "source": [
    "# 方法二"
   ]
  },
  {
   "cell_type": "markdown",
   "metadata": {},
   "source": [
    "找到num2=target-num1,判断是否在nums中，用以下两个方法;\n",
    "num2 in nums，返回True说明可能有戏\n",
    "nums.index(num2),查找num2的索引"
   ]
  },
  {
   "cell_type": "code",
   "execution_count": null,
   "metadata": {
    "collapsed": true
   },
   "outputs": [],
   "source": [
    "def two_sum2(nums,target):\n",
    "    lens = len(nums)\n",
    "    j = -1\n",
    "    for i in range(lens):\n",
    "        if (target - nums[i]) in nums:\n",
    "            if (nums.count(target - nums[i] = 1)) & (target - nums[i] = nums[i]):\n",
    "                continue\n",
    "            else:\n",
    "                j = nums.index(target - nums[i],i + 1)\n",
    "                break\n",
    "    if j > 0:\n",
    "        return [i,j]\n",
    "    else:\n",
    "        return []\n",
    "            "
   ]
  },
  {
   "cell_type": "code",
   "execution_count": null,
   "metadata": {
    "collapsed": true
   },
   "outputs": [],
   "source": [
    "nums = [11,15,2,2,7]\n",
    "target = 9\n",
    "output = two_sum1(nums,target)\n",
    "print(output)"
   ]
  }
 ],
 "metadata": {
  "kernelspec": {
   "display_name": "Python 3",
   "language": "python",
   "name": "python3"
  },
  "language_info": {
   "codemirror_mode": {
    "name": "ipython",
    "version": 3
   },
   "file_extension": ".py",
   "mimetype": "text/x-python",
   "name": "python",
   "nbconvert_exporter": "python",
   "pygments_lexer": "ipython3",
   "version": "3.6.3"
  }
 },
 "nbformat": 4,
 "nbformat_minor": 2
}
