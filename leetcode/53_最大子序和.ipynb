{
 "cells": [
  {
   "cell_type": "code",
   "execution_count": null,
   "metadata": {},
   "outputs": [],
   "source": [
    "方法1：动态规划"
   ]
  },
  {
   "cell_type": "code",
   "execution_count": null,
   "metadata": {},
   "outputs": [],
   "source": [
    "def maxSubArray(nums):\n",
    "    '''dp表示的并不是所求的前i个内的最大子序和，而是以nums[i]结尾的子数组的最大和'''\n",
    "    dp = [0]*len(nums)\n",
    "    dp[0] = nums[0]\n",
    "    for i in range(1,len(nums)):\n",
    "        dp[i] = max(dp[i-1] + nums[i],nums[i])\n",
    "    return max(dp)"
   ]
  },
  {
   "cell_type": "code",
   "execution_count": null,
   "metadata": {},
   "outputs": [],
   "source": [
    "方法2：改进动态规划\n",
    "空间复杂度O(1)"
   ]
  },
  {
   "cell_type": "code",
   "execution_count": null,
   "metadata": {},
   "outputs": [],
   "source": [
    "def maxSubArray2(nums):\n",
    "    '''dp表示的并不是所求的前i个内的最大子序和，而是以nums[i]结尾的子数组的最大和'''\n",
    "    pre = nums[0]\n",
    "    cur = nums[0]\n",
    "    for i in range(1,len(nums)):\n",
    "        pre = max(pre + nums[i],nums[i])\n",
    "        cur = max(pre,cur)#还有和上一个变量pre做对比\n",
    "    return cur"
   ]
  }
 ],
 "metadata": {
  "language_info": {
   "codemirror_mode": {
    "name": "ipython",
    "version": 3
   },
   "file_extension": ".py",
   "mimetype": "text/x-python",
   "name": "python",
   "nbconvert_exporter": "python",
   "pygments_lexer": "ipython3",
   "version": 3
  },
  "orig_nbformat": 2
 },
 "nbformat": 4,
 "nbformat_minor": 2
}