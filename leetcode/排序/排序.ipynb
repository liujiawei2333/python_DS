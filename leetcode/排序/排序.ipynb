{
 "cells": [
  {
   "cell_type": "markdown",
   "metadata": {},
   "source": [
    "稳定排序:排序前a在b的前面，a=b，排序后a依然在b的前面<br>\n",
    "稳定排序:排序前a在b的前面，a=b，排序后a可能不在b的前面<br>\n",
    "原地排序:不需要多余的存储空间，只用原来存储数据的空间进行比较和交换<br>\n",
    "非原地排序：需要额外的存储空间<br>"
   ]
  },
  {
   "cell_type": "markdown",
   "metadata": {},
   "source": [
    "1.选择排序<br>\n",
    "选择最小的与第一个交换；选择剩下的最小的与第二个交换...<br>\n",
    "时间复杂度O($n^{2}$),空间复杂度O(1),稳定排序，原地排序<br>"
   ]
  },
  {
   "cell_type": "code",
   "execution_count": 3,
   "metadata": {},
   "outputs": [],
   "source": [
    "def selectionsort(list):\n",
    "    n = len(list)\n",
    "    for i in range(n):\n",
    "        min_index = i\n",
    "        for j in range(i+1,n):\n",
    "            if list[j] < list[min_index]:\n",
    "                min_index = j\n",
    "        list[min_index],list[i] = list[i],list[min_index]\n",
    "    return list"
   ]
  },
  {
   "cell_type": "markdown",
   "metadata": {},
   "source": [
    "2.冒泡排序<br>\n",
    "从左到右比较两个相邻的元素, 如果他们的顺序错误就把他们交换位置；除去最右的元素，对剩余的元素做同样的工作<br>\n",
    "时间复杂度O($n^{2}$),空间复杂度O(1),稳定排序，原地排序<br>"
   ]
  },
  {
   "cell_type": "code",
   "execution_count": 7,
   "metadata": {},
   "outputs": [],
   "source": [
    "def bubblesort(list):\n",
    "    n = len(list)\n",
    "    for i in range(n):\n",
    "        for j in range(1,n-i):\n",
    "            if list[j-1] > list[j]:\n",
    "                list[j-1],list[j] = list[j],list[j-1]\n",
    "    return list"
   ]
  },
  {
   "cell_type": "markdown",
   "metadata": {},
   "source": [
    "3.插入排序<br>\n",
    "适合数据量少或者部分已经有序的数据<br>\n",
    "从第二个数据开始往左边比较，插入合适的位置；再从第三个开始...<br>\n",
    "时间复杂度O($n^{2}$),空间复杂度O(1),稳定排序，原地排序"
   ]
  },
  {
   "cell_type": "code",
   "execution_count": 12,
   "metadata": {},
   "outputs": [],
   "source": [
    "def insertsort(list):\n",
    "    for i in range(1,len(list)):\n",
    "        key = list[i]\n",
    "        j = i\n",
    "        while j >= 1 and list[j-1] > key:\n",
    "            list[j] = list[j-1]\n",
    "            j -= 1\n",
    "        list[j] = key\n",
    "    return list"
   ]
  },
  {
   "cell_type": "markdown",
   "metadata": {},
   "source": [
    "4.希尔排序<br>\n",
    "适合中等规模的数据<br>\n",
    "改进插入排序，先用插入排序对间隔为h的元素排序，再对间隔为h/2的元素排序...直到h=1（轮流对每个组排序）<br>\n",
    "时间复杂度O($n_{2}$)~O(n)之间，复杂度与增量序列(1,2,4,8...即每次通过减半得到增量)相关,准确分析时间复杂度很复杂<br>\n",
    "空间复杂度O(1),非稳定排序，原地排序"
   ]
  },
  {
   "cell_type": "code",
   "execution_count": 18,
   "metadata": {},
   "outputs": [],
   "source": [
    "def shellsort(list):\n",
    "    n = len(list)\n",
    "    gap = n // 2\n",
    "    while gap > 0:\n",
    "        for i in range(gap,n):\n",
    "            key = list[i]\n",
    "            j = i\n",
    "            while j >= gap and list[j-gap] > key:\n",
    "                list[j] = list[j-gap]\n",
    "                j -= gap\n",
    "            list[j] = key\n",
    "        gap = gap // 2\n",
    "    return list"
   ]
  },
  {
   "cell_type": "markdown",
   "metadata": {},
   "source": [
    "5.归并排序<br>\n",
    "分治思想,递归，适合较大规模的数据，但耗费内存<br>\n",
    "数组分割成两个，排序，4个，排序...，直到大小为1的结束条件，再合并起来<br>\n",
    "时间复杂度O(nlogn)：分割的复杂度为logn,合并的为n<br>\n",
    "空间复杂度O(n),稳定排序，非原地排序"
   ]
  },
  {
   "cell_type": "code",
   "execution_count": 24,
   "metadata": {},
   "outputs": [],
   "source": [
    "def mergesort(list):\n",
    "    if len(list) > 1:\n",
    "        mid = len(list) // 2\n",
    "        left = list[:mid]\n",
    "        right = list[mid:]\n",
    "        mergesort(left)\n",
    "        mergesort(right)\n",
    "\n",
    "        i,j,k = 0,0,0\n",
    "        while i < len(left) and j < len(right):\n",
    "            if left[i] < right[j]:\n",
    "                list[k] = left[i]\n",
    "                i += 1\n",
    "            else:\n",
    "                list[k] = right[j]\n",
    "                j += 1\n",
    "            k += 1\n",
    "        \n",
    "        while i < len(left):\n",
    "            list[k] = left[i]\n",
    "            i += 1\n",
    "            k += 1\n",
    "        while j < len(right):\n",
    "            list[k] = right[j]\n",
    "            j += 1\n",
    "            k += 1\n",
    "    return list"
   ]
  },
  {
   "cell_type": "markdown",
   "metadata": {},
   "source": [
    "6.快速排序<br>\n",
    "分治，递归<br>\n",
    "选取基准元素放在中间，分割的俩边再次找基准元素...<br>\n",
    "平均时间复杂度O(nlogn):假设每次基准元素怒在任意位置算出来的<br>\n",
    "最坏时间复杂度O($n^{2}$):基准元素总是在两端，需要分割n次，每次分割的复杂度n<br>\n",
    "最好时间复杂度O(nlogn)：基准元素总在中间，分割logn次<br>\n",
    "空间复杂度O(logn),非稳定排序，原地排序"
   ]
  },
  {
   "cell_type": "code",
   "execution_count": 29,
   "metadata": {},
   "outputs": [],
   "source": [
    "def quicksort(list):\n",
    "    if len(list) < 2:\n",
    "        return list\n",
    "    else:\n",
    "        pivot = list[0]\n",
    "        left = [i for i in list[1:] if i <= pivot]\n",
    "        right = [i for i in list[1:] if i > pivot]\n",
    "        return quicksort(left) + [pivot] + quicksort(right)"
   ]
  },
  {
   "cell_type": "markdown",
   "metadata": {},
   "source": [
    "7.堆排序<br>\n",
    "对原始数据的顺序状态不敏感，不适合元素较少的情况<br>\n",
    "1）无序数组构建成二叉堆，$\\frac{n}{2}$次循环，每次循环调用一次结点下沉，复杂度O(nlogn)；\n",
    "2）循环删除堆顶元素，移动到集合的尾部，调节堆产生的新的堆顶,循环n-1次，每次循环调用一次结点下沉，复杂度O(nlogn)<br>\n",
    "二叉堆用顺序存储（数组列表）<br>\n",
    "如果父结点的索引为i，则左孩子为2i+1,右孩子为2i+2<br>\n",
    "时间复杂度O(nlogn)(不是平均值，而是稳定在这个数值):结点下沉调整的时间复杂度为二叉堆的高度logn，n为结点数<br>\n",
    "空间复杂度O(1)<br>\n",
    "应用：n个无序数组找出第k个大的数<br>\n",
    "非稳定性排序，原地排序"
   ]
  },
  {
   "cell_type": "code",
   "execution_count": 60,
   "metadata": {},
   "outputs": [],
   "source": [
    "'''实现的是最大堆，排序顺序从小到大'''\n",
    "def downadjust(list,parent,length):#结点下沉调整\n",
    "    temp = list[parent]\n",
    "    child = 2 * parent + 1#左孩子的结点\n",
    "    '''父结点下沉'''\n",
    "    while (child < length):\n",
    "        if child + 1 < length:\n",
    "            if list[child] < list[child+1]:#左右孩子中选出最大者\n",
    "                child += 1\n",
    "        if temp >= list[child]:#父结点大于等于孩子结点，满足最大堆的条件，下沉结束\n",
    "            break\n",
    "        list[parent] = list[child]#单向赋值\n",
    "        parent = child\n",
    "        child  = 2 * parent + 1#\n",
    "    list[parent] = temp\n",
    "    return list\n",
    "\n",
    "def heapsort(list):\n",
    "    n = len(list)\n",
    "    '''构建二叉堆,其中(n-2)//2是二叉堆中父结点的个数'''\n",
    "    for i in range((n-2)//2,-1,-1):#i的范围是(n-2)//2到0\n",
    "        list = downadjust(list,i,n)\n",
    "    for i in range(n-1,0,-1):#堆排序,i的范围是n-1到1\n",
    "        list[i],list[0] = list[0],list[i]#顶堆元素与最后一个元素交换\n",
    "        list = downadjust(list,0,i)#调整为新的二叉堆（从顶堆元素开始，到第i个元素结束），后面的元素是排序好的，不用再变\n",
    "    return list"
   ]
  },
  {
   "cell_type": "code",
   "execution_count": 61,
   "metadata": {
    "tags": []
   },
   "outputs": [
    {
     "output_type": "stream",
     "name": "stdout",
     "text": "[1, 11, 12, 22, 22, 25, 34, 64, 90, 100]\n"
    }
   ],
   "source": [
    "list = [64, 34, 25, 12, 22, 22,11, 100,1,90] \n",
    "print(heapsort(list))"
   ]
  },
  {
   "cell_type": "markdown",
   "metadata": {},
   "source": [
    "   8.计数排序<br>\n",
    "适合最大值和最小值的差值不是很大的情况，要求输入是有确定范围的整数<br>\n",
    "时间复杂度O(n+k):n为原始数组的长度，k为计数数组的长度（即最大值与最小值之差）<br>\n",
    "空间复杂度O(k):新创建了计数数组<br>\n",
    "稳定排序，非原地排序<br>\n",
    "局限：1.数组最大值与最小值差距太大的情况不行；2.数组元素不是整数的情况不行"
   ]
  },
  {
   "cell_type": "code",
   "execution_count": 12,
   "metadata": {},
   "outputs": [],
   "source": [
    "'''朴素版：最简单的情况，适合元素最小值为0'''\n",
    "def countsort1(list):\n",
    "    max_value = max(list)#数组的最大值\n",
    "    countlist = [0] * (max_value + 1)#计数数组,长度为max+1，保证最后一个元素下标为max\n",
    "    '''填充计数数组：元素为下标，计数为值'''\n",
    "    for i in range(len(list)):\n",
    "        countlist[list[i]] += 1\n",
    "    index = 0\n",
    "    '''遍历计数数组，每个元素按其值进行遍历,填充入原数组'''\n",
    "    for i in range(len(countlist)):\n",
    "        for j in range(countlist[i]):\n",
    "            list[index] = i\n",
    "            index += 1\n",
    "    return list"
   ]
  },
  {
   "cell_type": "code",
   "execution_count": 10,
   "metadata": {},
   "outputs": [],
   "source": [
    "'''改进版：适用于最小值也比较大的情况，计数数组从最小值开始而不是0'''\n",
    "def countsort2(list):\n",
    "    max_value = max(list)\n",
    "    min_value = min(list)\n",
    "    countlist = [0] * (max_value - min_value + 1)#计数数组长度\n",
    "    for i in range(len(list)):\n",
    "        countlist[list[i] - min_value] += 1#min_value为偏移量\n",
    "    index = 0\n",
    "    for i in range(len(countlist)):\n",
    "        for j in range(countlist[i]):\n",
    "            list[index] = i + min_value#加上偏移量\n",
    "            index += 1\n",
    "    return list"
   ]
  },
  {
   "cell_type": "markdown",
   "metadata": {},
   "source": [
    "9.桶排序,改进的计数排序<br>\n",
    "最大值和最小值之间的数进行划分，划分为桶数，各个元素放到对应区间的桶中，再对桶中的数进行排序。<br>\n",
    "在计数排序的基础上，适用于元素有浮点数的情况<br>\n",
    "要求：1.在内存空间足够时，尽量增大桶的数量；2.尽量让数据均匀分配到每个桶中<br>\n",
    "n个元素，m个桶\n",
    "最小时间复杂度O(n):元素平均分配到每个桶中,且n=m<br>\n",
    "最大时间复杂度O(nlogn):所有元素被分到同一个桶中<br>\n",
    "平均时间复杂度:<br>\n",
    "1.求最大最小值O(n)<br>\n",
    "2.创建空桶O(m)<br>\n",
    "3.遍历原始列表O(n)<br>\n",
    "4.m个桶使用了O(nlogn)的内置排序算法，每个桶平均有$ \\frac{n}{m} $个元素，总为$ O(m*\\frac{n}{m}*log(\\frac{n}{m}))$<br>\n",
    "5.输出排序序列O(n)<br>\n",
    "总平均时间复杂度O(n+m+n(logn-logm))<br>\n",
    "空间复杂度O(n+m)<br>\n",
    "稳定排序，非原地排序"
   ]
  },
  {
   "cell_type": "code",
   "execution_count": 33,
   "metadata": {},
   "outputs": [],
   "source": [
    "def bucketsort(list):\n",
    "    bucketnum = 5#桶的个数\n",
    "    max_value = max(list)\n",
    "    min_value = min(list)\n",
    "    bucketsize = (max_value - min_value + 1) // bucketnum#桶的最大容量\n",
    "    bucketlist = [[] for i in range(bucketnum)]#二维桶,列表内装了bucketnum个列表\n",
    "    for i in range(len(list)):\n",
    "        bucketlist[(list[i] - min_value) // bucketsize].append(list[i])#将每个元素放入对应的桶中\n",
    "    for i in range(bucketnum):\n",
    "        bucketlist[i].sort()#对桶内的元素进行排序，使用系统自带排序方法\n",
    "    index = 0\n",
    "    for i in range(len(bucketlist)):#合并汇总放回原数组\n",
    "        while bucketlist[i]:\n",
    "            list[index] = bucketlist[i].pop(0)#依次取出\n",
    "            index += 1\n",
    "    return list"
   ]
  },
  {
   "cell_type": "code",
   "execution_count": 34,
   "metadata": {},
   "outputs": [
    {
     "output_type": "stream",
     "name": "stdout",
     "text": "[11, 12, 22, 22, 25, 34, 64, 90]\n"
    }
   ],
   "source": [
    "list = [64, 34, 25, 12, 22, 22,11, 90] \n",
    "print(bucketsort(list))"
   ]
  },
  {
   "cell_type": "markdown",
   "metadata": {},
   "source": [
    "10.基数排序，改进的桶排序<br>\n",
    "非比较，适合于整数<br>\n",
    "先后以个位、十位和百位等顺序来排序，用桶实现对某位数的排序<br>\n",
    "一般采用从低位到高位的顺序，原因是如果采用先高位后低位，虽然减少了一定的排序操作，但是每个位里的元素进行递归排序时又需要10个桶，空间占用太大<br>\n",
    "时间复杂度O(n):实际排序时间是kn（k为常数），实际中k可能比较大，会影响排序时间，所以不一定会比快速排序（O(nlogn)）快，一般来说数据量越大，基数排序更有优势<br>\n",
    "空间复杂度O(n+m)<br>\n",
    "稳定排序，非原地排序"
   ]
  },
  {
   "cell_type": "code",
   "execution_count": 31,
   "metadata": {},
   "outputs": [],
   "source": [
    "def radixsort(list):\n",
    "    bucketnum = 10#桶的个数,表示一个数位的0~9范围\n",
    "    div = 1\n",
    "    mostbit = len(str(max(list)))#最大值的位数（决定了外循环的次数）\n",
    "    bucketlist = [[] for i in range(bucketnum)]#二维桶,列表内装了bucketnum个列表\n",
    "    while mostbit:\n",
    "        for i in range(len(list)):#元素放入对应的桶中\n",
    "            bucketlist[list[i] // div % bucketnum].append(list[i])\n",
    "        index = 0\n",
    "        for i in range(len(bucketlist)):\n",
    "            while bucketlist[i]:\n",
    "                list[index] = bucketlist[i].pop(0)#依次取出\n",
    "                index += 1\n",
    "        div *= 10\n",
    "        mostbit -= 1\n",
    "    return list"
   ]
  }
 ],
 "metadata": {
  "language_info": {
   "codemirror_mode": {
    "name": "ipython",
    "version": 3
   },
   "file_extension": ".py",
   "mimetype": "text/x-python",
   "name": "python",
   "nbconvert_exporter": "python",
   "pygments_lexer": "ipython3",
   "version": "3.6.3-final"
  },
  "orig_nbformat": 2,
  "kernelspec": {
   "name": "python36364bitbasecondada634ea3822e40a2999869c01ec7906c",
   "display_name": "Python 3.6.3 64-bit ('base': conda)"
  }
 },
 "nbformat": 4,
 "nbformat_minor": 2
}