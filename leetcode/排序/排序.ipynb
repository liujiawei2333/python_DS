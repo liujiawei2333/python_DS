{
 "cells": [
  {
   "cell_type": "markdown",
   "metadata": {},
   "source": [
    "稳定排序:排序前a在b的前面，a=b，排序后a依然在b的前面<br>\n",
    "稳定排序:排序前a在b的前面，a=b，排序后a可能不在b的前面<br>\n",
    "原地排序:不需要多余的存储空间，只用原来存储数据的空间进行比较和交换<br>\n",
    "非原地排序：需要额外的存储空间<br>"
   ]
  },
  {
   "cell_type": "markdown",
   "metadata": {},
   "source": [
    "1.选择排序<br>\n",
    "选择最小的与第一个交换；选择剩下的最小的与第二个交换...<br>\n",
    "时间复杂度O($n^{2}$),空间复杂度O(1),稳定排序，原地排序<br>"
   ]
  },
  {
   "cell_type": "code",
   "execution_count": 3,
   "metadata": {},
   "outputs": [],
   "source": [
    "def selectionsort(list):\n",
    "    n = len(list)\n",
    "    for i in range(n):\n",
    "        min_index = i\n",
    "        for j in range(i+1,n):\n",
    "            if list[j] < list[min_index]:\n",
    "                min_index = j\n",
    "        list[min_index],list[i] = list[i],list[min_index]\n",
    "    return list"
   ]
  },
  {
   "cell_type": "markdown",
   "metadata": {},
   "source": [
    "2.冒泡排序<br>\n",
    "从左到右比较两个相邻的元素, 如果他们的顺序错误就把他们交换位置；除去最右的元素，对剩余的元素做同样的工作<br>\n",
    "时间复杂度O($n^{2}$),空间复杂度O(1),稳定排序，原地排序<br>"
   ]
  },
  {
   "cell_type": "code",
   "execution_count": 7,
   "metadata": {},
   "outputs": [],
   "source": [
    "def bubblesort(list):\n",
    "    n = len(list)\n",
    "    for i in range(n):\n",
    "        for j in range(1,n-i):\n",
    "            if list[j-1] > list[j]:\n",
    "                list[j-1],list[j] = list[j],list[j-1]\n",
    "    return list"
   ]
  },
  {
   "cell_type": "markdown",
   "metadata": {},
   "source": [
    "3.插入排序<br>\n",
    "适合数据量少或者部分已经有序的数据<br>\n",
    "从第二个数据开始往左边比较，插入合适的位置；再从第三个开始...<br>\n",
    "时间复杂度O($n^{2}$),空间复杂度O(1),稳定排序，原地排序"
   ]
  },
  {
   "cell_type": "code",
   "execution_count": 12,
   "metadata": {},
   "outputs": [],
   "source": [
    "def insertsort(list):\n",
    "    for i in range(1,len(list)):\n",
    "        key = list[i]\n",
    "        j = i\n",
    "        while j >= 1 and list[j-1] > key:\n",
    "            list[j] = list[j-1]\n",
    "            j -= 1\n",
    "        list[j] = key\n",
    "    return list"
   ]
  },
  {
   "cell_type": "markdown",
   "metadata": {},
   "source": [
    "4.希尔排序<br>\n",
    "适合中等规模的数据<br>\n",
    "改进插入排序，先用插入排序对间隔为h的元素排序，再对间隔为h/2的元素排序...直到h=1（轮流对每个组排序）<br>\n",
    "时间复杂度O($n_{2}$)~O(n)之间，复杂度与增量序列(1,2,4,8...即每次通过减半得到增量)相关,准确分析时间复杂度很复杂<br>\n",
    "空间复杂度O(1),非稳定排序，原地排序"
   ]
  },
  {
   "cell_type": "code",
   "execution_count": 18,
   "metadata": {},
   "outputs": [],
   "source": [
    "def shellsort(list):\n",
    "    n = len(list)\n",
    "    gap = n // 2\n",
    "    while gap > 0:\n",
    "        for i in range(gap,n):\n",
    "            key = list[i]\n",
    "            j = i\n",
    "            while j >= gap and list[j-gap] > key:\n",
    "                list[j] = list[j-gap]\n",
    "                j -= gap\n",
    "            list[j] = key\n",
    "        gap = gap // 2\n",
    "    return list"
   ]
  },
  {
   "cell_type": "markdown",
   "metadata": {},
   "source": [
    "5.归并排序<br>\n",
    "分治思想,递归，适合较大规模的数据，但耗费内存<br>\n",
    "数组分割成两个，排序，4个，排序...，直到大小为1的结束条件，再合并起来<br>\n",
    "时间复杂度O(nlogn)：分割的复杂度为logn,合并的为n<br>\n",
    "空间复杂度O(n),稳定排序，非原地排序"
   ]
  },
  {
   "cell_type": "code",
   "execution_count": 24,
   "metadata": {},
   "outputs": [],
   "source": [
    "def mergesort(list):\n",
    "    if len(list) > 1:\n",
    "        mid = len(list) // 2\n",
    "        left = list[:mid]\n",
    "        right = list[mid:]\n",
    "        mergesort(left)\n",
    "        mergesort(right)\n",
    "\n",
    "        i,j,k = 0,0,0\n",
    "        while i < len(left) and j < len(right):\n",
    "            if left[i] < right[j]:\n",
    "                list[k] = left[i]\n",
    "                i += 1\n",
    "            else:\n",
    "                list[k] = right[j]\n",
    "                j += 1\n",
    "            k += 1\n",
    "        \n",
    "        while i < len(left):\n",
    "            list[k] = left[i]\n",
    "            i += 1\n",
    "            k += 1\n",
    "        while j < len(right):\n",
    "            list[k] = right[j]\n",
    "            j += 1\n",
    "            k += 1\n",
    "    return list"
   ]
  },
  {
   "cell_type": "markdown",
   "metadata": {},
   "source": [
    "6.快速排序<br>\n",
    "分治，递归<br>\n",
    "选取基准元素放在中间，分割的俩边再次找基准元素...<br>\n",
    "平均时间复杂度O(nlogn):假设每次基准元素怒在任意位置算出来的<br>\n",
    "最坏时间复杂度O($n^{2}$):基准元素总是在两端，需要分割n次，每次分割的复杂度n<br>\n",
    "最好时间复杂度O(nlogn)：基准元素总在中间，分割logn次<br>\n",
    "空间复杂度O(logn),非稳定排序，原地排序"
   ]
  },
  {
   "cell_type": "code",
   "execution_count": 29,
   "metadata": {},
   "outputs": [],
   "source": [
    "def quicksort(list):\n",
    "    if len(list) < 2:\n",
    "        return list\n",
    "    else:\n",
    "        pivot = list[0]\n",
    "        left = [i for i in list[1:] if i <= pivot]\n",
    "        right = [i for i in list[1:] if i > pivot]\n",
    "        return quicksort(left) + [pivot] + quicksort(right)"
   ]
  },
  {
   "cell_type": "code",
   "execution_count": 33,
   "metadata": {},
   "outputs": [
    {
     "output_type": "stream",
     "name": "stdout",
     "text": "[]\n"
    }
   ],
   "source": [
    "list = [] \n",
    "print(quicksort(list))"
   ]
  },
  {
   "cell_type": "code",
   "execution_count": null,
   "metadata": {},
   "outputs": [],
   "source": []
  }
 ],
 "metadata": {
  "language_info": {
   "codemirror_mode": {
    "name": "ipython",
    "version": 3
   },
   "file_extension": ".py",
   "mimetype": "text/x-python",
   "name": "python",
   "nbconvert_exporter": "python",
   "pygments_lexer": "ipython3",
   "version": "3.6.3-final"
  },
  "orig_nbformat": 2,
  "kernelspec": {
   "name": "python36364bitbasecondada634ea3822e40a2999869c01ec7906c",
   "display_name": "Python 3.6.3 64-bit ('base': conda)"
  }
 },
 "nbformat": 4,
 "nbformat_minor": 2
}