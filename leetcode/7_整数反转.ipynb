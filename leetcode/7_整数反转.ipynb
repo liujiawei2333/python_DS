{
 "cells": [
  {
   "cell_type": "markdown",
   "metadata": {},
   "source": [
    "思路是先判断给定整数x的正负，把符号先提取出来，将abs(x)变成字符串，字符串反转，恢复成整数。"
   ]
  },
  {
   "cell_type": "code",
   "execution_count": 1,
   "metadata": {
    "collapsed": true
   },
   "outputs": [],
   "source": [
    "def reverse(x):\n",
    "    x_flag = -1 if x <= 0 else 1#记录x的正负\n",
    "    abs_x = abs(x)\n",
    "    str_x = str(abs_x)#变成字符串\n",
    "    reverse_str_x = str_x[::-1]#字符串反序\n",
    "    reverse_int_x = int(reverse_str_x)#反序后的字符串变成整数\n",
    "    reverse_int_x = reverse_int_x * x_flag#恢复正负号\n",
    "    if -2 ** 31 <= reverse_int_x <= 2** 31 - 1:#范围判断\n",
    "        return reverse_int_x\n",
    "    else:\n",
    "        return 0"
   ]
  },
  {
   "cell_type": "code",
   "execution_count": 2,
   "metadata": {},
   "outputs": [
    {
     "name": "stdout",
     "output_type": "stream",
     "text": [
      "21\n"
     ]
    }
   ],
   "source": [
    "x = 120\n",
    "y = reverse(x)\n",
    "print(y)"
   ]
  },
  {
   "cell_type": "code",
   "execution_count": null,
   "metadata": {
    "collapsed": true
   },
   "outputs": [],
   "source": []
  }
 ],
 "metadata": {
  "kernelspec": {
   "display_name": "Python 3",
   "language": "python",
   "name": "python3"
  },
  "language_info": {
   "codemirror_mode": {
    "name": "ipython",
    "version": 3
   },
   "file_extension": ".py",
   "mimetype": "text/x-python",
   "name": "python",
   "nbconvert_exporter": "python",
   "pygments_lexer": "ipython3",
   "version": "3.6.3"
  }
 },
 "nbformat": 4,
 "nbformat_minor": 2
}
