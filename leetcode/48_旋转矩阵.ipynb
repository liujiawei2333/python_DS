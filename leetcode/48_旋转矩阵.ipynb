{
 "cells": [
  {
   "cell_type": "markdown",
   "metadata": {},
   "source": [
    "方法1：先转置矩阵，再翻转每一行，即沿中间线左右翻转<br>\n",
    "时间复杂度$ O(n^{2}) $,空间复杂度O(1)"
   ]
  },
  {
   "cell_type": "code",
   "execution_count": null,
   "metadata": {},
   "outputs": [],
   "source": [
    "def rotate(matrix):\n",
    "    n = len(matrix[0])\n",
    "    '''矩阵转置'''\n",
    "    for i in range(n):\n",
    "        for j in range(i,n):\n",
    "            matrix[j][i],matrix[i][j] = matrix[i][j],matrix[j][i]\n",
    "    \n",
    "    '''每一行进行翻转'''\n",
    "    for i in range(n):\n",
    "        matrix[i].reverse()"
   ]
  },
  {
   "cell_type": "markdown",
   "metadata": {},
   "source": [
    "方法2：先上下翻转，再转置<br>\n",
    "上下翻转：matrix【::-1】<br>\n",
    "转置:<br>\n",
    "zip(*matrix)：解压，实现转置，返回元组组成的对象(()类型)<br>\n",
    "由map将所有元组进行list处理"
   ]
  },
  {
   "cell_type": "code",
   "execution_count": null,
   "metadata": {},
   "outputs": [],
   "source": [
    "def rotate(matrix):\n",
    "    matrix[:] = map(list,zip(*matrix[::-1]))"
   ]
  }
 ],
 "metadata": {
  "language_info": {
   "codemirror_mode": {
    "name": "ipython",
    "version": 3
   },
   "file_extension": ".py",
   "mimetype": "text/x-python",
   "name": "python",
   "nbconvert_exporter": "python",
   "pygments_lexer": "ipython3",
   "version": 3
  },
  "orig_nbformat": 2
 },
 "nbformat": 4,
 "nbformat_minor": 2
}