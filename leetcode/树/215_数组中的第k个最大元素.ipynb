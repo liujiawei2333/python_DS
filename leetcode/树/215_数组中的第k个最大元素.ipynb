{
 "cells": [
  {
   "cell_type": "markdown",
   "metadata": {},
   "source": [
    "适合总体数据n较大，k较小的情况<br>\n",
    "取nums前k个元素构成长度为k的最小堆<br>\n",
    "剩余k+1个元素依次和堆顶比较，如果比堆顶大，则替换堆顶，维护最小堆<br>\n",
    "最终最小堆为前k大的元素<br>\n",
    "时间复杂度O(nlogk)<br>\n",
    "空间复杂度O(1)"
   ]
  },
  {
   "cell_type": "code",
   "execution_count": null,
   "metadata": {},
   "outputs": [],
   "source": [
    "'''自带方法'''\n",
    "import heapq\n",
    "def findKthLargest1(nums,k):\n",
    "    return heapq.nlarget(k,nums)[-1]"
   ]
  },
  {
   "cell_type": "code",
   "execution_count": 108,
   "metadata": {},
   "outputs": [],
   "source": [
    "def findKthLargest2(nums,k):\n",
    "    def down_adjust(i,k):#结点下沉调整\n",
    "        while True:\n",
    "            t = 2 * i + 1#左孩子\n",
    "            if t >= k:\n",
    "                return\n",
    "            if t + 1 < k and nums[t] > nums[t+1]:\n",
    "                t += 1\n",
    "            if nums[t] < nums[i]:\n",
    "                nums[t],nums[i] = nums[i],nums[t]                 \n",
    "                i = t\n",
    "            else:\n",
    "                return\n",
    "\n",
    "    '''构建长度为k的最小堆,其中k//2是二叉堆中父结点的个数'''\n",
    "    for i in range(k//2,-1,-1):#i的范围是(n-2)//2到0\n",
    "        down_adjust(i,k)\n",
    "    for i in range(k,len(nums)):#剩余的元素依次与堆顶比较\n",
    "        if nums[i]>nums[0]:\n",
    "            nums[0]=nums[i]\n",
    "            down_adjust(0,k)\n",
    "    return nums[0]#长度为k的最小堆的堆顶就是第k个最大元素    "
   ]
  },
  {
   "cell_type": "code",
   "execution_count": 109,
   "metadata": {
    "tags": []
   },
   "outputs": [
    {
     "output_type": "stream",
     "name": "stdout",
     "text": "5\n"
    }
   ],
   "source": [
    "nums = [2,3,1,5,6,4]\n",
    "k = 2\n",
    "print(findKthLargest2(nums,k))"
   ]
  },
  {
   "cell_type": "code",
   "execution_count": null,
   "metadata": {},
   "outputs": [],
   "source": []
  }
 ],
 "metadata": {
  "language_info": {
   "codemirror_mode": {
    "name": "ipython",
    "version": 3
   },
   "file_extension": ".py",
   "mimetype": "text/x-python",
   "name": "python",
   "nbconvert_exporter": "python",
   "pygments_lexer": "ipython3",
   "version": "3.6.3-final"
  },
  "orig_nbformat": 2,
  "kernelspec": {
   "name": "python36364bitbasecondada634ea3822e40a2999869c01ec7906c",
   "display_name": "Python 3.6.3 64-bit ('base': conda)"
  }
 },
 "nbformat": 4,
 "nbformat_minor": 2
}