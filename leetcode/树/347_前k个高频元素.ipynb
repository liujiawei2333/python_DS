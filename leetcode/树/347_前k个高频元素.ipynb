{
 "cells": [
  {
   "cell_type": "markdown",
   "metadata": {},
   "source": [
    "方法1:二叉堆<br>\n",
    "适合总体数据n较大，k较小的情况<br>\n",
    "topk小：构建k个数的最大堆，当读取的数小于根节点时，替换根节点，重新调整最大堆<br>\n",
    "topk大：构建k个数的最小堆，当读取的数大于根节点时，替换根节点，重新调整最大堆<br>\n",
    "时间复杂度O(nlogk)：遍历元素构建哈希表O(n),构建k个数的最小堆O(k),下沉添加一个元素O(logk)<br>\n",
    "空间复杂度O(n)：存储哈希表"
   ]
  },
  {
   "cell_type": "code",
   "execution_count": 45,
   "metadata": {},
   "outputs": [],
   "source": [
    "def topKFrequent1(nums,k):\n",
    "    def down_adjust(i,k):\n",
    "        while True:\n",
    "            t = 2 * i + 1\n",
    "            if t >= k :\n",
    "                return\n",
    "            if t + 1 < k and hashlist[t][1] > hashlist[t+1][1]:\n",
    "                t += 1\n",
    "            if hashlist[t][1] < hashlist[i][1]:\n",
    "                hashlist[t],hashlist[i] = hashlist[i],hashlist[t]                   \n",
    "                i = t\n",
    "            else:\n",
    "                return\n",
    "\n",
    "    hashmap = {}#按频数构建哈希表(值：出现次数)\n",
    "    for num in nums:\n",
    "        if num in hashmap:\n",
    "            hashmap[num] += 1\n",
    "        else:\n",
    "            hashmap[num] = 1\n",
    "    hashlist = [[key,value] for key,value in hashmap.items()]#将哈希表转换为二维列表\n",
    "    for i in range(k // 2,-1,-1):#建立k个元素的最小堆\n",
    "        down_adjust(i,k)\n",
    "    for i in range(k,len(hashlist)):#剩余的元素依次与堆顶比较\n",
    "        if hashlist[i][1] >= hashlist[0][1]:\n",
    "            hashlist[0] = hashlist[i]\n",
    "            down_adjust(0,k)\n",
    "    return [hashlist[i][0] for i in range(k)]"
   ]
  },
  {
   "cell_type": "code",
   "execution_count": 54,
   "metadata": {},
   "outputs": [],
   "source": [
    "'''自带模块'''\n",
    "import collections\n",
    "import heapq\n",
    "def topKFrequent2(nums,k):\n",
    "    count = collections.Counter(nums)   \n",
    "    return heapq.nlargest(k, count.keys(), key=count.get) "
   ]
  },
  {
   "cell_type": "code",
   "execution_count": 55,
   "metadata": {
    "tags": []
   },
   "outputs": [
    {
     "output_type": "stream",
     "name": "stdout",
     "text": "<built-in method get of Counter object at 0x0000018EC02AE830>\n[1, 2]\n"
    }
   ],
   "source": [
    "nums = [1,1,1,2,2,3,4,4,5]\n",
    "k = 2\n",
    "print(topKFrequent2(nums,k))"
   ]
  },
  {
   "cell_type": "code",
   "execution_count": null,
   "metadata": {},
   "outputs": [],
   "source": []
  }
 ],
 "metadata": {
  "language_info": {
   "codemirror_mode": {
    "name": "ipython",
    "version": 3
   },
   "file_extension": ".py",
   "mimetype": "text/x-python",
   "name": "python",
   "nbconvert_exporter": "python",
   "pygments_lexer": "ipython3",
   "version": "3.6.3-final"
  },
  "orig_nbformat": 2,
  "kernelspec": {
   "name": "python36364bitbasecondada634ea3822e40a2999869c01ec7906c",
   "display_name": "Python 3.6.3 64-bit ('base': conda)"
  }
 },
 "nbformat": 4,
 "nbformat_minor": 2
}