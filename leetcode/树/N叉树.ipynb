{
 "cells": [
  {
   "cell_type": "code",
   "execution_count": 3,
   "metadata": {},
   "outputs": [],
   "source": [
    "'''N叉树的建立'''\n",
    "class Node:\n",
    "    def __init__(self,val=None,childre=None):\n",
    "        self.val = None\n",
    "        self.children = children"
   ]
  },
  {
   "cell_type": "markdown",
   "metadata": {},
   "source": [
    "深度优先遍历(DFS):沿特定路径遍历到叶子结点再回溯进入临近路径继续遍历<br>\n",
    "两类方法:<br>\n",
    "1.递归(简单)<br>\n",
    "2.迭代:使用栈(先进后出)<br>\n",
    "时间复杂度O(n):n为结点数<br>\n",
    "空间复杂度:递归方法：O(h),h为树的高度；迭代方法：O(n)\n"
   ]
  },
  {
   "cell_type": "markdown",
   "metadata": {},
   "source": [
    "前序遍历"
   ]
  },
  {
   "cell_type": "code",
   "execution_count": null,
   "metadata": {},
   "outputs": [],
   "source": [
    "'''递归'''\n",
    "def preorder(self,root):\n",
    "    if not root:\n",
    "        return []\n",
    "    res=[root.val]\n",
    "    for node in root.children:\n",
    "        res.extend(self.preorder(node))\n",
    "    return res"
   ]
  },
  {
   "cell_type": "code",
   "execution_count": null,
   "metadata": {},
   "outputs": [],
   "source": [
    "'''迭代'''\n",
    "def preorder(self,root):\n",
    "    if not root:\n",
    "        return []\n",
    "    stack = [root]#辅助的栈,栈顶是当前遍历的结点\n",
    "    res = []\n",
    "    while stack:\n",
    "        node = stack.pop()#栈顶取出结点加入结果中\n",
    "        res.append(node.val)\n",
    "        stack.extend(node.children[::-1])#栈的所有子结点逆序推入栈中，这样保证下一次遍历的顺序正确\n",
    "    return res"
   ]
  },
  {
   "cell_type": "markdown",
   "metadata": {},
   "source": [
    "后续遍历:先遍历结点的所有子结点，再遍历这个结点本身"
   ]
  },
  {
   "cell_type": "code",
   "execution_count": null,
   "metadata": {},
   "outputs": [],
   "source": [
    "'''递归'''\n",
    "def postorder(self,root):\n",
    "    if not root:\n",
    "        return []\n",
    "    res = []\n",
    "    for node in root.children:\n",
    "        res.extend(self.postorder(node))\n",
    "    res.append(root.val)\n",
    "    return res"
   ]
  },
  {
   "cell_type": "code",
   "execution_count": null,
   "metadata": {},
   "outputs": [],
   "source": [
    "'''迭代'''\n",
    "def postorder(self,root):\n",
    "    if not root:\n",
    "        return []\n",
    "    stack = [root]\n",
    "    res = []\n",
    "    while stack:\n",
    "        node = stack.pop()\n",
    "        res.append(node.val)\n",
    "        stack.extend(node.children)\n",
    "    return res[::-1]#反序输出"
   ]
  },
  {
   "cell_type": "markdown",
   "metadata": {},
   "source": [
    "层序遍历(广度优先搜索BFS)<br>\n",
    "时间复杂度O(n)<br>\n",
    "空间复杂度O(n)"
   ]
  },
  {
   "cell_type": "code",
   "execution_count": null,
   "metadata": {},
   "outputs": [],
   "source": [
    "'''使用辅助的队列(先进先出)'''\n",
    "def levelorder(root):\n",
    "    if not root:\n",
    "        return []\n",
    "    queue=[root]#存放结点  \n",
    "    res=[]#存放结点值  \n",
    "    while queue:\n",
    "        res.append([node.val for node in queue])\n",
    "        for i in range(len(queue)):#该循环用于某个子树的一层(兄弟结点)\n",
    "            node = queue.pop(0)#父结点\n",
    "            queue.extend(node.children)#添加新一层的结点,在叶子结点时不存在下一层，则queue为空，结束循环\n",
    "    return res"
   ]
  }
 ],
 "metadata": {
  "language_info": {
   "codemirror_mode": {
    "name": "ipython",
    "version": 3
   },
   "file_extension": ".py",
   "mimetype": "text/x-python",
   "name": "python",
   "nbconvert_exporter": "python",
   "pygments_lexer": "ipython3",
   "version": "3.6.3-final"
  },
  "orig_nbformat": 2,
  "kernelspec": {
   "name": "python36364bitbasecondada634ea3822e40a2999869c01ec7906c",
   "display_name": "Python 3.6.3 64-bit ('base': conda)"
  }
 },
 "nbformat": 4,
 "nbformat_minor": 2
}