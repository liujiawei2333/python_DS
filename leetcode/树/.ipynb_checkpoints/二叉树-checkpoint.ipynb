{
 "cells": [
  {
   "cell_type": "code",
   "execution_count": 3,
   "metadata": {
    "collapsed": true
   },
   "outputs": [],
   "source": [
    "'''二叉树的建立'''\n",
    "class TreeNode:\n",
    "    def __init__(self,x=None):\n",
    "        self.val = None\n",
    "        self.left = None\n",
    "        self.right = None"
   ]
  },
  {
   "cell_type": "markdown",
   "metadata": {},
   "source": [
    "深度优先遍历(DFS):沿特定路径遍历到叶子结点再回溯进入临近路径继续遍历<br>\n",
    "两类方法:<br>\n",
    "1.递归(简单)<br>\n",
    "2.迭代:使用栈(先进后出)<br>\n",
    "时间复杂度O(n):n为结点数<br>\n",
    "空间复杂度:递归方法：平均O(logn),最坏O(n)；迭代方法：O(n)\n"
   ]
  },
  {
   "cell_type": "markdown",
   "metadata": {},
   "source": [
    "## 前序遍历"
   ]
  },
  {
   "cell_type": "code",
   "execution_count": null,
   "metadata": {
    "collapsed": true
   },
   "outputs": [],
   "source": [
    "'''递归'''\n",
    "def preorder(self,root):\n",
    "    if not root:\n",
    "        return []\n",
    "    res = []\n",
    "    res.append(root.val)\n",
    "    res.extend(self.preorder(root.left))\n",
    "    res.extend(self.preorder(root.right))\n",
    "    return res"
   ]
  },
  {
   "cell_type": "code",
   "execution_count": null,
   "metadata": {
    "collapsed": true
   },
   "outputs": [],
   "source": [
    "'''递归的简洁实现'''\n",
    "def preorder(self,root):\n",
    "    p = lambda x : [x.val] + p(x.left) + p(x.right) if x else []\n",
    "    return p(root)"
   ]
  },
  {
   "cell_type": "code",
   "execution_count": null,
   "metadata": {
    "collapsed": true
   },
   "outputs": [],
   "source": [
    "'''\n",
    "迭代：数据类型标记法\n",
    "遇到TreeNode类型，将其右子结点、自身、左子结点依次入栈\n",
    "遇到int类型，将其值输出\n",
    "对于三种不同的遍历方法，只需要调整一下入栈顺序即可，记得入栈顺序与遍历顺序是相反的\n",
    "'''\n",
    "def preorder(self,root):\n",
    "    if not root:\n",
    "        return []\n",
    "    stack = [root]\n",
    "    res = []\n",
    "    while stack:\n",
    "        node  = stack.pop()\n",
    "        if isinstance(node,TreeNode):\n",
    "            stack.extend([node.right,node.left,node.val])#与遍历输出的顺序相反，才使得栈的输出顺序正确\n",
    "        elif isinstance(node,int):\n",
    "            res.append(node)\n",
    "    return res"
   ]
  },
  {
   "cell_type": "markdown",
   "metadata": {},
   "source": [
    "## 中序遍历"
   ]
  },
  {
   "cell_type": "code",
   "execution_count": null,
   "metadata": {
    "collapsed": true
   },
   "outputs": [],
   "source": [
    "'''递归'''\n",
    "def inorder(self,root):\n",
    "    if not root:\n",
    "        return []\n",
    "    res = []\n",
    "    res.extend(self.inorder(root.left))\n",
    "    res.append(root.val)\n",
    "    res.extend(self.inorder(root.right))\n",
    "    return res"
   ]
  },
  {
   "cell_type": "code",
   "execution_count": null,
   "metadata": {
    "collapsed": true
   },
   "outputs": [],
   "source": [
    "'''递归的简洁实现'''\n",
    "def inorder(self,root):\n",
    "    p = lambda x: p(x.left)+[x.val]+p(x.right) if x else []\n",
    "    return p(root)"
   ]
  },
  {
   "cell_type": "code",
   "execution_count": null,
   "metadata": {
    "collapsed": true
   },
   "outputs": [],
   "source": [
    "'''迭代'''\n",
    "def inorder(self,root):\n",
    "    if not root:\n",
    "        return []\n",
    "    stack = [root]\n",
    "    res = []\n",
    "    while stack:\n",
    "        node = stack.pop()\n",
    "        if isinstance(node,TreeNode):\n",
    "            stack.extend([node.right,node.val,node.left])#与遍历输出的顺序相反，才使得栈的输出顺序正确\n",
    "        elif isinstance(node,int):\n",
    "            res.append(node)\n",
    "    return res\n",
    "    "
   ]
  },
  {
   "cell_type": "markdown",
   "metadata": {},
   "source": [
    "## 后续遍历:先遍历结点的所有子结点，再遍历这个结点本身"
   ]
  },
  {
   "cell_type": "code",
   "execution_count": null,
   "metadata": {
    "collapsed": true
   },
   "outputs": [],
   "source": [
    "'''递归'''\n",
    "def postorder(self,root):\n",
    "    if not root:\n",
    "        return []\n",
    "    res = []\n",
    "    res.extend(self.postorder(root.left))\n",
    "    res.extend(self.postorder(root.right))\n",
    "    res.append(root.val)\n",
    "    return res"
   ]
  },
  {
   "cell_type": "code",
   "execution_count": null,
   "metadata": {
    "collapsed": true
   },
   "outputs": [],
   "source": [
    "'''递归的简洁实现'''\n",
    "def postorder(self,root):\n",
    "    p = lambda x: p(x.left)+p(x.right)+[x.val] if x else []\n",
    "    return p(root)"
   ]
  },
  {
   "cell_type": "code",
   "execution_count": null,
   "metadata": {
    "collapsed": true
   },
   "outputs": [],
   "source": [
    "'''迭代'''\n",
    "def postorder(self,root):\n",
    "    if not root:\n",
    "        return []\n",
    "    stack = [root]\n",
    "    res = []\n",
    "    while stack:\n",
    "        node = stack.pop()\n",
    "        if isinstance(node,TreeNode):\n",
    "            stack.extend([node.val,node.right,node.left])#与遍历输出的顺序相反，才使得栈的输出顺序正确\n",
    "        elif isinstance(node,int):\n",
    "            res.append(node)\n",
    "    return res"
   ]
  },
  {
   "cell_type": "markdown",
   "metadata": {},
   "source": [
    "## 层序遍历(广度优先搜索BFS):\n",
    "每一层要成为一个单独的子列表，用辅助列表level<br>\n",
    "时间复杂度O(n)<br>\n",
    "空间复杂度O(n)"
   ]
  },
  {
   "cell_type": "code",
   "execution_count": null,
   "metadata": {
    "collapsed": true
   },
   "outputs": [],
   "source": [
    "'''使用辅助的队列(先进先出)'''\n",
    "def levelorder(self,root):\n",
    "    if not root:\n",
    "        return []\n",
    "    queue = [root]\n",
    "    res = []\n",
    "    while queue:\n",
    "        level = []#记录当前层的结点\n",
    "        for i in range(len(queue)):#遍历某一层的结点\n",
    "            node = queue.pop(0)\n",
    "            level.append(node.val)\n",
    "            if node.left:\n",
    "                queue.append(node.left)\n",
    "            if node.right:\n",
    "                queue.append(node.right)\n",
    "        res.append(level)#某一层的结点处理完后，将其放入结果\n",
    "    return res"
   ]
  },
  {
   "cell_type": "markdown",
   "metadata": {},
   "source": [
    "翻转二叉树"
   ]
  },
  {
   "cell_type": "code",
   "execution_count": null,
   "metadata": {
    "collapsed": true
   },
   "outputs": [],
   "source": [
    "'''\n",
    "方法1：递归(深度优先遍历)\n",
    "时间复杂度O(n)\n",
    "空间复杂度：最坏情况下栈内需要存放O(h)个方法调用，且h是树的高度，最坏情况下数成为一个单链表结构，所以为O(n)\n",
    "'''\n",
    "def invertTree(self,root):\n",
    "    if not root:\n",
    "        return []\n",
    "    root.left,root.right = root.right,root.left\n",
    "    self.invertTree(root.left)\n",
    "    self.invertTree(root.right)\n",
    "    return root"
   ]
  },
  {
   "cell_type": "code",
   "execution_count": null,
   "metadata": {
    "collapsed": true
   },
   "outputs": [],
   "source": [
    "'''\n",
    "方法2：迭代(广度优先遍历)\n",
    "'''\n",
    "def invertTree(self,root):\n",
    "    if not root:\n",
    "        return []\n",
    "    queue = [root]\n",
    "    while queue:\n",
    "        node = queue.pop(0)\n",
    "        node.left,node.right = node.right,node.left\n",
    "        if node.left:\n",
    "            queue.append(node.left)\n",
    "        if node.right:\n",
    "            queue.append(node.right)\n",
    "    return root"
   ]
  },
  {
   "cell_type": "markdown",
   "metadata": {},
   "source": [
    "判断二叉树是否对称"
   ]
  },
  {
   "cell_type": "code",
   "execution_count": null,
   "metadata": {
    "collapsed": true
   },
   "outputs": [],
   "source": [
    "'''递归'''\n",
    "def isSymmetric(self,root):\n",
    "    if not root:\n",
    "        return True\n",
    "    def dfs(left,right):\n",
    "        if (left == None and right == None):#递归终止条件,两边空了，是对称的\n",
    "            return True\n",
    "        elif (left == None or right == None):#递归终止条件,两边不一样高,是不对称的\n",
    "            return False\n",
    "        elif left.val != right.val:#递归终止条件,两边值不一样，是不对称的\n",
    "            return False\n",
    "        return dfs(left.left,right.right) and dfs(left.right,right.left)\n",
    "    return dfs(root.left,root.right)"
   ]
  },
  {
   "cell_type": "code",
   "execution_count": null,
   "metadata": {
    "collapsed": true
   },
   "outputs": [],
   "source": [
    "'''迭代'''\n",
    "def isSymmetric(self,root):\n",
    "    if not root or (root.left == None and root.right == None):#由于下一步要把左右结点放入队列，所以这里要判断左右结点\n",
    "        return True\n",
    "    queue = [root.left,root.right]\n",
    "    while queue:\n",
    "        left = queue.pop(0)\n",
    "        right = queue.pop(0)\n",
    "        if (left == None and right == None):#两边空了，继续循环\n",
    "            continue\n",
    "        elif (left == None or right == None):#两边不一样高,是不对称的\n",
    "            return False\n",
    "        elif left.val != right.val:#两边值不一样，是不对称的\n",
    "            return False\n",
    "        '''这四句是关键，需要对比的两个结点要放在一起'''\n",
    "        queue.append(left.left)\n",
    "        queue.append(right.right)\n",
    "        queue.append(left.right)\n",
    "        queue.append(right.left)\n",
    "    return True"
   ]
  }
 ],
 "metadata": {
  "kernelspec": {
   "display_name": "Python 3.6.3 64-bit ('base': conda)",
   "language": "python",
   "name": "python36364bitbasecondada634ea3822e40a2999869c01ec7906c"
  },
  "language_info": {
   "codemirror_mode": {
    "name": "ipython",
    "version": 3
   },
   "file_extension": ".py",
   "mimetype": "text/x-python",
   "name": "python",
   "nbconvert_exporter": "python",
   "pygments_lexer": "ipython3",
   "version": "3.6.3"
  }
 },
 "nbformat": 4,
 "nbformat_minor": 2
}
