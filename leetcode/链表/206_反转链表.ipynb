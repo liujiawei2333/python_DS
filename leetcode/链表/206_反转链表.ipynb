{
 "cells": [
  {
   "cell_type": "code",
   "execution_count": null,
   "metadata": {},
   "outputs": [],
   "source": [
    "方法1：递归<br>\n",
    "时间复杂度O(n):n为列表的长度<br>\n",
    "空间复杂度O(n):递归使用了隐式栈空间\n"
   ]
  },
  {
   "cell_type": "code",
   "execution_count": 1,
   "metadata": {},
   "outputs": [],
   "source": [
    "class ListNode:\n",
    "    def __init__(self,x):\n",
    "        self.val = x#数据域\n",
    "        self.next = None#指针域"
   ]
  },
  {
   "cell_type": "code",
   "execution_count": 4,
   "metadata": {},
   "outputs": [],
   "source": [
    "def reverseList1(head):\n",
    "    '''结束条件：链表为空或只有一个结点(即指针指向空），返回链表本身'''\n",
    "    if not head or not head.next:\n",
    "        return head\n",
    "    nextNode = reverseList(head.next)#反转子链表\n",
    "    '''反转链表，即该元素的指针指向元素的指针又指向该元素'''\n",
    "    head.next.next = head\n",
    "    head.next = None#该元素的指针指向null，即为最后一个,如果没有这一句，就形成循环\n",
    "    return nextNode"
   ]
  },
  {
   "cell_type": "markdown",
   "metadata": {},
   "source": [
    "方法2：迭代,简单但要一定要深刻理解<br>\n",
    "时间复杂度O(n),空间复杂度O(1)<br>\n",
    "初始化:pre=None,curr=1>2>3>4>5>None<br>\n",
    "1)pre=1>None,curr=2>3>4>5>None\n"
   ]
  },
  {
   "cell_type": "code",
   "execution_count": null,
   "metadata": {},
   "outputs": [],
   "source": [
    "def reverseList1(head):\n",
    "    # 申请两个链表 一个空链表，一个完整的链表\n",
    "    pre = None#转化后的链表\n",
    "    curr = head#转化前的链表\n",
    "    while curr:#循环curr链表的每一个元素\n",
    "    '''temp用于暂时存储curr后面的元素,在最后一轮还给curr'''\n",
    "        temp = curr.next#第一轮循环该值为 2>3>4>5>None\n",
    "        curr.next = pre # 当前链表指向 新链表,第一轮循环该值为1>None\n",
    "        pre = curr # 赋值给新链表，第一轮循环该值为1>None\n",
    "        curr = temp\n",
    "    return pre"
   ]
  }
 ],
 "metadata": {
  "language_info": {
   "codemirror_mode": {
    "name": "ipython",
    "version": 3
   },
   "file_extension": ".py",
   "mimetype": "text/x-python",
   "name": "python",
   "nbconvert_exporter": "python",
   "pygments_lexer": "ipython3",
   "version": "3.6.3-final"
  },
  "orig_nbformat": 2,
  "kernelspec": {
   "name": "python36364bitbasecondada634ea3822e40a2999869c01ec7906c",
   "display_name": "Python 3.6.3 64-bit ('base': conda)"
  }
 },
 "nbformat": 4,
 "nbformat_minor": 2
}