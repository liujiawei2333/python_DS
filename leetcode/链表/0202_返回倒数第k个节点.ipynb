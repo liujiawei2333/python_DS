{
 "cells": [
  {
   "cell_type": "code",
   "execution_count": null,
   "metadata": {},
   "outputs": [],
   "source": [
    "双指针（通过差值距离判断）<br>\n",
    "开始时，快慢指针都指向头节点<br>\n",
    "快节点先移动k次<br>\n",
    "同时移动快慢节点，直到快节点到头（指向null）\n"
   ]
  },
  {
   "cell_type": "code",
   "execution_count": null,
   "metadata": {},
   "outputs": [],
   "source": [
    "def kthToLast(head,k):\n",
    "    slow_node = head\n",
    "    fast_node = head\n",
    "    step = 0\n",
    "    while fast_node:\n",
    "        fast_node = fast_node.next#移动快指针\n",
    "        if step >= k:\n",
    "            slow_node = slow_node.next#移动慢指针\n",
    "        step += 1\n",
    "    return slow_node.val"
   ]
  }
 ],
 "metadata": {
  "language_info": {
   "codemirror_mode": {
    "name": "ipython",
    "version": 3
   },
   "file_extension": ".py",
   "mimetype": "text/x-python",
   "name": "python",
   "nbconvert_exporter": "python",
   "pygments_lexer": "ipython3",
   "version": 3
  },
  "orig_nbformat": 2
 },
 "nbformat": 4,
 "nbformat_minor": 2
}