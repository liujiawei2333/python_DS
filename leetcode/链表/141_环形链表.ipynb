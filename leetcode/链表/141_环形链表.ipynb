{
 "cells": [
  {
   "cell_type": "markdown",
   "metadata": {},
   "source": [
    "方法1：哈希表<br>\n",
    "检查一个结点此前是否被访问过<br>\n",
    "时间复杂度O(n)<br>空间复杂度O(n):取决于添加到哈希表中的元素数量"
   ]
  },
  {
   "cell_type": "code",
   "execution_count": 1,
   "metadata": {},
   "outputs": [],
   "source": [
    "def hasCycle(head):\n",
    "    hasmap = []\n",
    "    while head:\n",
    "        if head in hasmap:\n",
    "            return True\n",
    "        else:\n",
    "            hasmap.append(head)\n",
    "        head = head.next\n",
    "    return False"
   ]
  },
  {
   "cell_type": "markdown",
   "metadata": {},
   "source": [
    "方法2：双指针<br>\n",
    "时间复杂度O(n):\n",
    "1. 不存在环：取决于链表长度n<br>\n",
    "2. 存在环:1>慢指针走完非环部分，迭代次数为非环长度N<br>\n",
    "        2>两个指针都在环中，循环次数为$\\frac{二者距离}{速度差值}$,近似于环形长度K。<br>\n",
    "        二者总和就是n"
   ]
  },
  {
   "cell_type": "code",
   "execution_count": null,
   "metadata": {},
   "outputs": [],
   "source": [
    "def hasCycle(head):\n",
    "    if head is None or head.next is None:\n",
    "        return False\n",
    "    slow_node = head\n",
    "    fast_node = head.next\n",
    "    while fast_node != slow_node:\n",
    "        if fast_node is None or fast_node.next is None:#快指针到头了，说明是线性链表（环形链表没有头）\n",
    "            return False\n",
    "        slow_node = slow_node.next#慢指针每次移动一步\n",
    "        fast_node = fast_node.next.next#快指针每次移动两步\n",
    "    return True"
   ]
  }
 ],
 "metadata": {
  "language_info": {
   "codemirror_mode": {
    "name": "ipython",
    "version": 3
   },
   "file_extension": ".py",
   "mimetype": "text/x-python",
   "name": "python",
   "nbconvert_exporter": "python",
   "pygments_lexer": "ipython3",
   "version": "3.6.3-final"
  },
  "orig_nbformat": 2,
  "kernelspec": {
   "name": "python36364bitbasecondada634ea3822e40a2999869c01ec7906c",
   "display_name": "Python 3.6.3 64-bit ('base': conda)"
  }
 },
 "nbformat": 4,
 "nbformat_minor": 2
}