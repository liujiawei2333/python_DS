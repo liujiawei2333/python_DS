{
 "cells": [
  {
   "cell_type": "markdown",
   "metadata": {},
   "source": [
    "方法1：迭代<br>\n",
    "时间复杂度O(n+m),n和m是两个链表的长度<br>\n",
    "空间复杂度O(1)"
   ]
  },
  {
   "cell_type": "code",
   "execution_count": null,
   "metadata": {},
   "outputs": [],
   "source": [
    "def mergeTwoLists(l1,l2):\n",
    "    prehead = ListNode(-1)#哨兵节点，便于返回合并后的链表\n",
    "    prev = prehead#维护的元素，要做的是调整它的next指针\n",
    "    while l1 and l2:\n",
    "        if l1.val <= l2.val:\n",
    "            prev.next = l1\n",
    "            l1 = l1.next\n",
    "        else:\n",
    "            prev.next = l2\n",
    "            l2 = l2.next\n",
    "        prev = prev.next#关键不要忘了\n",
    "    '''合并后l1和l2最多还有一个未被合并完'''\n",
    "    prev.next = l1 if l1 is not None else l2\n",
    "    return prehead.next#prehead的第一个元素是-1，不返回，只返后后面的"
   ]
  },
  {
   "cell_type": "markdown",
   "metadata": {},
   "source": [
    "方法2：递归<br>\n",
    "时间复杂度O(m+n),空间复杂度O(m+n)：递归调用了m+n次，使用了m+n个栈"
   ]
  },
  {
   "cell_type": "code",
   "execution_count": null,
   "metadata": {},
   "outputs": [],
   "source": [
    "def mergeTwoLists2(l1,l2):\n",
    "    '''结束条件：两个链表其中一个为空时，返回另一个非空链表'''\n",
    "    if l1 is None:\n",
    "        return l2\n",
    "    if l2 is None:\n",
    "        return l1\n",
    "    '''较小节点的指针指向其余节点的合并结果'''\n",
    "    if l1.val <= l2.val:\n",
    "        l1.next = mergeTwoLists2(l1.next,l2)\n",
    "        return l1\n",
    "    else:\n",
    "        l2.next = mergeTwoLists2(l1,l2.next)\n",
    "        return l2"
   ]
  }
 ],
 "metadata": {
  "language_info": {
   "codemirror_mode": {
    "name": "ipython",
    "version": 3
   },
   "file_extension": ".py",
   "mimetype": "text/x-python",
   "name": "python",
   "nbconvert_exporter": "python",
   "pygments_lexer": "ipython3",
   "version": 3
  },
  "orig_nbformat": 2
 },
 "nbformat": 4,
 "nbformat_minor": 2
}