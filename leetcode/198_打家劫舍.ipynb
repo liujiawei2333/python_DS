{
 "cells": [
  {
   "cell_type": "markdown",
   "metadata": {},
   "source": [
    "方法1：动态规划<br>\n",
    "时间复杂度:O(n)\n",
    "空间复杂度:O(n)"
   ]
  },
  {
   "cell_type": "code",
   "execution_count": null,
   "metadata": {},
   "outputs": [],
   "source": [
    "def rob1(nums):\n",
    "    '''房屋数量为0或1是特殊情况，单独考虑'''\n",
    "    if len(nums) == 0:\n",
    "        return 0\n",
    "    elif len(nums) == 1:\n",
    "        return nums[0]\n",
    "    dp = [0]*len(nums)\n",
    "    dp[0] = nums[0]#第一个房屋\n",
    "    dp[1] = max(nums[0],nums[1])\n",
    "    '''关键的状态转移方程\n",
    "    前i个房间的最大金额 = max(前i-2个房间的最大金额+第i个房间的金额，前i-1个房间的最大金额)\n",
    "    '''\n",
    "    for i in range(2,len(nums)):\n",
    "        dp[i] = max(dp[i-2] + nums[i],dp[i-1])\n",
    "    return dp[len(nums)-1]"
   ]
  },
  {
   "cell_type": "code",
   "execution_count": null,
   "metadata": {},
   "outputs": [],
   "source": [
    "方法2：改进动态规划<br>\n",
    "不需要持有全部的dp数组，只需要当前的前两个。\n",
    "空间复杂度：O(1)"
   ]
  },
  {
   "cell_type": "code",
   "execution_count": null,
   "metadata": {},
   "outputs": [],
   "source": [
    "def rob2(nums):\n",
    "    cur = 0#i-1\n",
    "    pre = 0#i-2\n",
    "    for i in nums:\n",
    "        cur,pre = max(pre+i,cur),cur#pre相当于向后移动一位\n",
    "    return cur"
   ]
  }
 ],
 "metadata": {
  "language_info": {
   "codemirror_mode": {
    "name": "ipython",
    "version": 3
   },
   "file_extension": ".py",
   "mimetype": "text/x-python",
   "name": "python",
   "nbconvert_exporter": "python",
   "pygments_lexer": "ipython3",
   "version": 3
  },
  "orig_nbformat": 2
 },
 "nbformat": 4,
 "nbformat_minor": 2
}