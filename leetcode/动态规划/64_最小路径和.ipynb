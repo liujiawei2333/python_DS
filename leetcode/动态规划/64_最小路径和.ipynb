{
 "cells": [
  {
   "cell_type": "code",
   "execution_count": null,
   "metadata": {},
   "outputs": [],
   "source": [
    "方法1：动态规划<br>\n",
    "时间复杂度：O(m*n)\n",
    "空间复杂度：O(m*n)\n"
   ]
  },
  {
   "cell_type": "code",
   "execution_count": null,
   "metadata": {},
   "outputs": [],
   "source": [
    "def minPathSum(grid):\n",
    "    m = len(grid)\n",
    "    n = len(grid[0])\n",
    "    dp = [[0]*n for i in range(m)]#dp[i][j]为(i,j)位置处的最小路径和\n",
    "    dp[0][0] = grid[0][0]\n",
    "    '''沿着竖直方向走,这一步的最小路径和=上一步的最小路径和+这一步的数字'''\n",
    "    for i in range(1,m):#注意从1开始，因为0处不存在i-1\n",
    "        dp[i][0] = dp[i-1][0] + grid[i][0]\n",
    "    '''沿着水平方向走,这一步的最小路径和=上一步的最小路径和+这一步的数字'''\n",
    "    for i in range(1,n):\n",
    "        dp[0][i] = dp[0][i-1] + grid[0][i]\n",
    "    '''(i-1,j)和(i,j-1)这两个位置的最小路径和之间的最小值再加上(i,j)的位置数字'''\n",
    "    for i in range(1,m):\n",
    "        for j in range(1,n):\n",
    "            dp[i][j] = min(dp[i-1][j],dp[i][j-1]) + grid[i][j]\n",
    "    return dp[m-1][n-1]"
   ]
  },
  {
   "cell_type": "code",
   "execution_count": null,
   "metadata": {},
   "outputs": [],
   "source": [
    "方法2：改进动态规划<br>\n",
    "不要建立dp矩阵，直接修改grid矩阵。即用dp的元素覆盖原来的grid矩阵，覆盖后的值不会再用到\n",
    "空间复杂度:O(1)"
   ]
  },
  {
   "cell_type": "code",
   "execution_count": null,
   "metadata": {},
   "outputs": [],
   "source": [
    "def minPathSum2(grid):\n",
    "    m = len(grid)\n",
    "    n = len(grid[0])\n",
    "    for i in range(1,m):#注意从1开始，因为0处不存在i-1\n",
    "        grid[i][0] = grid[i-1][0] + grid[i][0]\n",
    "    for i in range(1,n):\n",
    "        grid[0][i] = grid[0][i-1] + grid[0][i]\n",
    "    for i in range(1,m):\n",
    "        for j in range(1,n):\n",
    "            grid[i][j] = min(grid[i][j-1],grid[i-1][j]) + grid[i][j]\n",
    "    return grid[m-1][n-1]\n"
   ]
  }
 ],
 "metadata": {
  "language_info": {
   "codemirror_mode": {
    "name": "ipython",
    "version": 3
   },
   "file_extension": ".py",
   "mimetype": "text/x-python",
   "name": "python",
   "nbconvert_exporter": "python",
   "pygments_lexer": "ipython3",
   "version": 3
  },
  "orig_nbformat": 2
 },
 "nbformat": 4,
 "nbformat_minor": 2
}