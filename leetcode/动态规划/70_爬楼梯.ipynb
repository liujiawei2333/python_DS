{
 "cells": [
  {
   "cell_type": "markdown",
   "metadata": {},
   "source": [
    "方法1：递归(自顶向下)\n",
    "示意图相当于二叉树，时间复杂度O(2^n),有许多重复的计算"
   ]
  },
  {
   "cell_type": "code",
   "execution_count": 5,
   "metadata": {},
   "outputs": [],
   "source": [
    "def climbstairs1(n):\n",
    "    if n == 0:\n",
    "        return 0\n",
    "    elif n == 1:\n",
    "        return 1\n",
    "    elif n == 2:\n",
    "        return 2\n",
    "    else:\n",
    "        return climbstairs1(n-1) + climbstairs1(n-2)"
   ]
  },
  {
   "cell_type": "markdown",
   "metadata": {},
   "source": [
    "方法2：递归改进\n",
    "方法1的基础上，创建哈希表，每次把不同参数的计算结果存入哈希表，有相同计算时再取出(备忘录算法)<br>\n",
    "时间复杂度O(n):共n个不同的输入<br>\n",
    "空间复杂度O(n)：哈希表里存了n-2个值"
   ]
  },
  {
   "cell_type": "code",
   "execution_count": 8,
   "metadata": {},
   "outputs": [],
   "source": [
    "def climbstairs2(n):\n",
    "    map = {}\n",
    "    if n == 0:\n",
    "        return 0\n",
    "    elif n == 1:\n",
    "        return 1\n",
    "    elif n == 2:\n",
    "        return 2\n",
    "    elif n in map:\n",
    "        return map['n']\n",
    "    else:\n",
    "        value = climbstairs2(n-1) + climbstairs2(n-2)\n",
    "        map['n'] = value\n",
    "        return value"
   ]
  },
  {
   "cell_type": "markdown",
   "metadata": {},
   "source": [
    "方法3：动态规划。自底向上\n",
    "f(i)=f(i-1)+f(i-2)\n",
    "到达i的方法=到达i-1的方法+到达i-2的方法<br>\n",
    "时间复杂度O(n)\n",
    "空间复杂度O(n):需要长度为n的字典/列表"
   ]
  },
  {
   "cell_type": "code",
   "execution_count": 19,
   "metadata": {},
   "outputs": [],
   "source": [
    "def climbstairs3(n):#字典保存数组\n",
    "    dp = {}#字典，台阶数：方法数\n",
    "    dp[0],dp[1],dp[2] = 0,1,2\n",
    "\n",
    "    for i in range(3,n+1):#for循环的右极限是取不到的，所以这里用n+1实际上取到n\n",
    "        dp[i] = dp[i-1] + dp[i-2]\n",
    "    return dp[n]"
   ]
  },
  {
   "cell_type": "code",
   "execution_count": 26,
   "metadata": {},
   "outputs": [],
   "source": [
    "def climbstairs3(n):#列表保存数组\n",
    "    dp = [0,1,2]\n",
    "    for i in range(3,n+1):#for循环的右极限是取不到的，所以这里用n+1实际上取到n\n",
    "        dp.append(dp[i-1] + dp[i-2])\n",
    "        '''如果加上下面这个pop语句，每次都删除了第一项元素，则数组长度保持为2，空间复杂度降低为O(1)'''\n",
    "        dp.pop(0)\n",
    "    return dp[n]"
   ]
  },
  {
   "cell_type": "markdown",
   "metadata": {
    "collapsed": true
   },
   "source": [
    "方法4：改进动态规划。只要两个元素不需要数组。空间复杂度O(1)"
   ]
  },
  {
   "cell_type": "code",
   "execution_count": 31,
   "metadata": {},
   "outputs": [],
   "source": [
    "def climbstairs4(n):#列表保存数组\n",
    "    '''x为上上一次迭代结果(n-2)，y为上一次迭代结果(n-1)'''\n",
    "    x,y,temp = 0,1,0\n",
    "    for i in range(n):\n",
    "        temp = y\n",
    "        y = x + y\n",
    "        x = temp\n",
    "    return y"
   ]
  },
  {
   "cell_type": "code",
   "execution_count": 32,
   "metadata": {},
   "outputs": [
    {
     "output_type": "stream",
     "name": "stdout",
     "text": "89\n"
    }
   ],
   "source": [
    "n = 10\n",
    "y = climbstairs4(n)\n",
    "print(y)"
   ]
  },
  {
   "cell_type": "code",
   "execution_count": null,
   "metadata": {},
   "outputs": [],
   "source": []
  }
 ],
 "metadata": {
  "kernelspec": {
   "display_name": "Python 3.6.3 64-bit ('base': conda)",
   "language": "python",
   "name": "python36364bitbasecondada634ea3822e40a2999869c01ec7906c"
  },
  "language_info": {
   "codemirror_mode": {
    "name": "ipython",
    "version": 3
   },
   "file_extension": ".py",
   "mimetype": "text/x-python",
   "name": "python",
   "nbconvert_exporter": "python",
   "pygments_lexer": "ipython3",
   "version": "3.6.3-final"
  }
 },
 "nbformat": 4,
 "nbformat_minor": 2
}