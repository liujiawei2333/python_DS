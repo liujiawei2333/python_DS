{
 "cells": [
  {
   "cell_type": "code",
   "execution_count": null,
   "metadata": {},
   "outputs": [],
   "source": [
    "方法1：二维动态规划<br>\n",
    "时间复杂度：O(m*n)\n",
    "空间复杂度：O(m*n)"
   ]
  },
  {
   "cell_type": "code",
   "execution_count": 5,
   "metadata": {},
   "outputs": [],
   "source": [
    "def uniquePaths1(m,n):\n",
    "    dp = [[0]*n for i in range(m)]#m*n二维数组,含义是在(i,j)这个位置有dp[i][j]种路径\n",
    "    '''沿着竖直方向走到底，只有一种走法'''\n",
    "    for i in range(m):\n",
    "        dp[i][0] = 1\n",
    "    '''沿着水平方向走到底，只有一种走法'''\n",
    "    for i in range(n):\n",
    "        dp[0][i] = 1\n",
    "    '''关系式'''\n",
    "    for i in range(1,m):#从1开始，绕过初始情况\n",
    "        for j in range(1,n):\n",
    "            dp[i][j] = dp[i-1][j] + dp[i][j-1]#状态转移公式\n",
    "    return dp[m-1][n-1]#索引从0开始，所以右下角的位置是(m-1,n-1)"
   ]
  },
  {
   "cell_type": "markdown",
   "metadata": {},
   "source": [
    "方法2：改进动态规划,用一维数组，新值覆盖旧值<br>\n",
    "空间复杂度:O(n),时间复杂度不变"
   ]
  },
  {
   "cell_type": "code",
   "execution_count": 15,
   "metadata": {},
   "outputs": [],
   "source": [
    "def uniquePaths2(m,n):\n",
    "    dp = [1]*n\n",
    "    for i in range(n):#初始值,最顶层的水平方向的路径只有1种\n",
    "        dp[i] = 1\n",
    "    for i in range(1,m):#从1开始，绕过初始情况\n",
    "        dp[0] = 1#第 i 行第 0 列的初始值\n",
    "        for j in range(1,n):\n",
    "            dp[j] = dp[j-1] + dp[j]\n",
    "    return dp[n-1]"
   ]
  },
  {
   "cell_type": "code",
   "execution_count": 16,
   "metadata": {},
   "outputs": [
    {
     "output_type": "stream",
     "name": "stdout",
     "text": "28\n"
    }
   ],
   "source": [
    "m=7\n",
    "n=3\n",
    "y = uniquePaths2(m,n)\n",
    "print(y)"
   ]
  },
  {
   "cell_type": "code",
   "execution_count": null,
   "metadata": {},
   "outputs": [],
   "source": []
  }
 ],
 "metadata": {
  "language_info": {
   "codemirror_mode": {
    "name": "ipython",
    "version": 3
   },
   "file_extension": ".py",
   "mimetype": "text/x-python",
   "name": "python",
   "nbconvert_exporter": "python",
   "pygments_lexer": "ipython3",
   "version": "3.6.3-final"
  },
  "orig_nbformat": 2,
  "kernelspec": {
   "name": "python36364bitbasecondada634ea3822e40a2999869c01ec7906c",
   "display_name": "Python 3.6.3 64-bit ('base': conda)"
  }
 },
 "nbformat": 4,
 "nbformat_minor": 2
}