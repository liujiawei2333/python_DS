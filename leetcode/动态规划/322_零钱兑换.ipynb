{
 "cells": [
  {
   "cell_type": "code",
   "execution_count": null,
   "metadata": {},
   "outputs": [],
   "source": [
    "方法1：动态规划<br>\n",
    "时间复杂度O(Sn):S为金额数，n为硬币面额数<br>\n",
    "空间复杂度O(S)：存储dp"
   ]
  },
  {
   "cell_type": "code",
   "execution_count": null,
   "metadata": {},
   "outputs": [],
   "source": [
    "def coinChange(coins,amount):\n",
    "    '''dp[i]为组成金额i需要的最少硬币数量'''\n",
    "    dp = [float('inf')] * (amount + 1)#初始化为无穷，是因为有些情况达不到，需要进行判断\n",
    "    dp[0] = 0\n",
    "    for coin in coins:\n",
    "        for i in range(coin,amount + 1):\n",
    "            '''状态转移方程是关键。下式的1代表取到对应的一枚coin'''\n",
    "            dp[i] = min(dp[i],dp[i - coin] + 1)\n",
    "    return dp[amount] if dp[amount] != float('inf') else -1"
   ]
  }
 ],
 "metadata": {
  "language_info": {
   "codemirror_mode": {
    "name": "ipython",
    "version": 3
   },
   "file_extension": ".py",
   "mimetype": "text/x-python",
   "name": "python",
   "nbconvert_exporter": "python",
   "pygments_lexer": "ipython3",
   "version": 3
  },
  "orig_nbformat": 2
 },
 "nbformat": 4,
 "nbformat_minor": 2
}