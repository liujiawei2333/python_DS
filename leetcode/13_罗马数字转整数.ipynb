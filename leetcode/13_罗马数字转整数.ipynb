{
 "cells": [
  {
   "cell_type": "markdown",
   "metadata": {},
   "source": [
    "建立哈希表：<br>\n",
    "根据规则，左边的比右边的大则加上左边的数，左边的比右边的小则减去左边的数。一直循环到倒数第二个数。<br>倒数第一个数特殊处理,直接加上"
   ]
  },
  {
   "cell_type": "code",
   "execution_count": 1,
   "metadata": {
    "collapsed": true
   },
   "outputs": [],
   "source": [
    "def romantoint(s):\n",
    "    roma_hash = {'I':1,'V':5,'X':10,'L':50,'C':100,'D':500,'M':1000}#建立哈希表\n",
    "    num = 0\n",
    "    for i in range(len(s)-1):#循环到倒数第二个数\n",
    "        if roma_hash[s[i]] >= roma_hash[s[i+1]]:\n",
    "            num += roma_hash[s[i]]\n",
    "        else:\n",
    "            num -= roma_hash[s[i]]\n",
    "    num += roma_hash[s[len(s)-1]]#加上最后一位\n",
    "    return num"
   ]
  },
  {
   "cell_type": "code",
   "execution_count": 2,
   "metadata": {},
   "outputs": [
    {
     "output_type": "stream",
     "name": "stdout",
     "text": "2964\n"
    }
   ],
   "source": [
    "s = 'MMCMLXI'\n",
    "y = romantoint(s)\n",
    "print(y)"
   ]
  },
  {
   "cell_type": "code",
   "execution_count": null,
   "metadata": {},
   "outputs": [],
   "source": []
  }
 ],
 "metadata": {
  "kernelspec": {
   "display_name": "Python 3.6.3 64-bit ('base': conda)",
   "language": "python",
   "name": "python36364bitbasecondada634ea3822e40a2999869c01ec7906c"
  },
  "language_info": {
   "codemirror_mode": {
    "name": "ipython",
    "version": 3
   },
   "file_extension": ".py",
   "mimetype": "text/x-python",
   "name": "python",
   "nbconvert_exporter": "python",
   "pygments_lexer": "ipython3",
   "version": "3.6.3-final"
  }
 },
 "nbformat": 4,
 "nbformat_minor": 2
}