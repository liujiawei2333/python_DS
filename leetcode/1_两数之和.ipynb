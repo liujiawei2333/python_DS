{
 "cells": [
  {
   "cell_type": "markdown",
   "metadata": {},
   "source": [
    "两层循环的暴力破解方式不可取，时间复杂度太高"
   ]
  },
  {
   "cell_type": "code",
   "execution_count": 3,
   "metadata": {},
   "outputs": [],
   "source": [
    "def two_sum1(nums,target):\n",
    "    dct={}\n",
    "    for i,n in enumerate(nums):\n",
    "        if target - n in dct:#in这个操作在字典中查询的是键而不是值\n",
    "            return [dct[target - n],i]\n",
    "        dct[n] = i#关键，建立的过程与原列表的索引和值是相反的"
   ]
  },
  {
   "cell_type": "code",
   "execution_count": null,
   "metadata": {},
   "outputs": [],
   "source": [
    "# 方法一\n",
    "遍历列表的同时查字典"
   ]
  },
  {
   "cell_type": "markdown",
   "metadata": {},
   "source": [
    "# 方法二"
   ]
  },
  {
   "cell_type": "markdown",
   "metadata": {},
   "source": [
    "找到num2=target-num1,判断是否在nums中，用以下两个方法;\n",
    "num2 in nums，返回True说明可能有戏\n",
    "nums.index(num2),查找num2的索引"
   ]
  },
  {
   "cell_type": "code",
   "execution_count": 4,
   "metadata": {},
   "outputs": [],
   "source": [
    "def two_sum2(nums,target):\n",
    "    lens = len(nums)\n",
    "    j = -1\n",
    "    for i in range(lens):\n",
    "        if (target - nums[i]) in nums:\n",
    "            if (nums.count(target - nums[i]) == 1) & (target - nums[i] == nums[i]):#如果num2=num1,且只出现了一次，说明找到的是num1本身\n",
    "                continue#继续循环\n",
    "            else:\n",
    "                j = nums.index(target - nums[i],i + 1)#从i+1后的序列找num2\n",
    "                break\n",
    "    if j > 0:\n",
    "        return [i,j]\n",
    "    else:\n",
    "        return []"
   ]
  },
  {
   "cell_type": "markdown",
   "metadata": {},
   "source": [
    "# 方法三"
   ]
  },
  {
   "cell_type": "markdown",
   "metadata": {},
   "source": [
    "对方法二的改进，每次只查找num1位置之前的值，时间能缩短一半以上"
   ]
  },
  {
   "cell_type": "code",
   "execution_count": 19,
   "metadata": {
    "collapsed": true
   },
   "outputs": [],
   "source": [
    "def two_sum3(nums,target):\n",
    "    lens = len(nums)\n",
    "    j = -1\n",
    "    for i in range(1,lens):\n",
    "        temp = nums[:i]\n",
    "        if (target - nums[i]) in temp:\n",
    "            j = temp.index(target - nums[i])\n",
    "            break\n",
    "    if j>=0:\n",
    "        return [i,j]"
   ]
  },
  {
   "cell_type": "markdown",
   "metadata": {},
   "source": [
    "# 方法四（重要方法）"
   ]
  },
  {
   "cell_type": "markdown",
   "metadata": {},
   "source": [
    "用字典建立哈希表求解"
   ]
  },
  {
   "cell_type": "code",
   "execution_count": 21,
   "metadata": {
    "collapsed": true
   },
   "outputs": [],
   "source": [
    "def two_sum4(nums,target):\n",
    "    hashmap={}\n",
    "    for ind,num in enumerate(nums):\n",
    "        hashmap[num] = ind#以数组的值为哈希表的键，以数组的索引为哈希表的值\n",
    "    for i,num in enumerate(nums):\n",
    "        j = hashmap.get(target - num)\n",
    "        if j is not None and i != j:#判断索引是否重复\n",
    "            return [i,j]"
   ]
  },
  {
   "cell_type": "markdown",
   "metadata": {},
   "source": [
    "# 方法五"
   ]
  },
  {
   "cell_type": "markdown",
   "metadata": {},
   "source": [
    "改进方法四，一个循环完成"
   ]
  },
  {
   "cell_type": "code",
   "execution_count": 23,
   "metadata": {
    "collapsed": true
   },
   "outputs": [],
   "source": [
    "def two_sum5(nums,target):\n",
    "    hashmap = {}\n",
    "    for i,num in enumerate(nums):\n",
    "        if hashmap.get(target - num) is not None:\n",
    "            return [i,hashmap.get(target - num)]\n",
    "        hashmap[num] = i#这种方式不用再判断得到的两个索引是否重复"
   ]
  },
  {
   "cell_type": "code",
   "execution_count": 7,
   "metadata": {},
   "outputs": [
    {
     "output_type": "stream",
     "name": "stdout",
     "text": "[4, 5]\n"
    }
   ],
   "source": [
    "nums = [11,15,3,4,7,2]\n",
    "target = 9\n",
    "output = two_sum2(nums,target)\n",
    "print(output)"
   ]
  },
  {
   "cell_type": "code",
   "execution_count": null,
   "metadata": {},
   "outputs": [],
   "source": []
  }
 ],
 "metadata": {
  "kernelspec": {
   "display_name": "Python 3.6.3 64-bit ('base': conda)",
   "language": "python",
   "name": "python36364bitbasecondada634ea3822e40a2999869c01ec7906c"
  },
  "language_info": {
   "codemirror_mode": {
    "name": "ipython",
    "version": 3
   },
   "file_extension": ".py",
   "mimetype": "text/x-python",
   "name": "python",
   "nbconvert_exporter": "python",
   "pygments_lexer": "ipython3",
   "version": "3.6.3-final"
  }
 },
 "nbformat": 4,
 "nbformat_minor": 2
}